{
  "cells": [
    {
      "cell_type": "markdown",
      "source": [
        "[![Open In Colab](https://colab.research.google.com/assets/colab-badge.svg)](https://github.com/AndreasSjolander/SVC-Research-School/Task 3/Monte_Carlo.ipynb)"
      ],
      "metadata": {
        "id": "romFVcQ0-2jo"
      }
    },
    {
      "cell_type": "markdown",
      "metadata": {
        "id": "Fn50MXfgfjL-"
      },
      "source": [
        "**Environment Set-up**"
      ]
    },
    {
      "cell_type": "code",
      "execution_count": 1,
      "metadata": {
        "colab": {
          "base_uri": "https://localhost:8080/"
        },
        "id": "1nhdeYUWDKuS",
        "outputId": "c35a6fd8-4423-47b9-abb9-026de0ada75b"
      },
      "outputs": [
        {
          "output_type": "stream",
          "name": "stdout",
          "text": [
            "fatal: destination path 'CMfM' already exists and is not an empty directory.\n"
          ]
        }
      ],
{
  "nbformat": 4,
  "nbformat_minor": 0,
  "metadata": {
    "colab": {
      "provenance": []
    },
    "kernelspec": {
      "name": "python3",
      "display_name": "Python 3"
    },
    "language_info": {
      "name": "python"
    }
  },
  "cells": [
    {
      "cell_type": "code",
      "execution_count": 14,
      "metadata": {
        "id": "9bMFKAOerMcT"
      },
      "outputs": [],
      "source": []
    },
    {
      "cell_type": "markdown",
      "source": [
        "#1 Monte Carlo Simulations\n",
        "Below, some short examples on how to perform Monte Carlo simulations are shown.\n",
        "\n",
        "1. Load Modules\n",
        "2. Extracting random data from list\n",
        "3. Throwin a dice"
      ],
      "metadata": {
        "id": "kvDCC8LUrM-8"
      }
    },
    {
      "cell_type": "code",
      "source": [
        "### LOAD MODULES\n",
        "import random\n",
        "import numpy as np\n",
        "import seaborn as sns\n",
        "import matplotlib.pyplot as plt\n",
        "\n",
        "# To visualize dataframes import display\n",
        "from IPython.display import display\n",
        "# Enable plotting inside the notebook\n",
        "%matplotlib inline"
      ],
      "metadata": {
        "id": "4ceOtzylrqVk"
      },
      "execution_count": 15,
      "outputs": []
    },
    {
      "cell_type": "markdown",
      "source": [
        "2. Extracting random data from list\n",
        "In this example, data will be randomly selected from a list. Every time, the mean value of all extracted data is calculated and stored. Thereafter, the mean and percentile values are calculated. Finally, the results are visualized in a plot."
      ],
      "metadata": {
        "id": "eG2yXKl1tmOy"
      }
    },
    {
      "cell_type": "code",
      "source": [
        "### EXTRACTING RANDOM DATA FROM LIST AND PLOT DISTRIBTUION\n",
        "# Indata\n",
        "nba_weights = [96.7, 101.1, 97.9, 98.1, 98.1,\n",
        "               100.3, 101.0, 98.0, 97.4]\n",
        "# Define an empty vector to store data\n",
        "simu_weights = []\n",
        "\n",
        "# Sample nine values from nba_weights with replacement 25000 times\n",
        "\"\"\"\n",
        "range = define the number of times random numbers are selected\n",
        "k     = define the number of values randomly selected each time\n",
        "\"\"\"\n",
        "for i in range(25000):\n",
        "    bootstrap_sample = random.choices(nba_weights,k=9)\n",
        "    simu_weights.append(np.mean(bootstrap_sample))\n",
        "\n",
        "# Calculate the mean and 95% confidence interval of the mean for your results\n",
        "mean_weight = np.mean(simu_weights)\n",
        "upper = np.quantile(simu_weights, 0.975)\n",
        "lower = np.quantile(simu_weights, 0.025)\n",
        "print(mean_weight, lower, upper)\n",
        "\n",
        "# Plot the distribution of the simulated weights\n",
        "sns.displot(simu_weights)\n",
        "\n",
        "# Plot vertical lines for the 95% confidence intervals and mean\n",
        "plt.axvline(lower, color=\"red\")\n",
        "plt.axvline(upper, color=\"red\")\n",
        "plt.axvline(mean_weight, color=\"green\")\n",
        "plt.show()"
      ],
      "metadata": {
        "colab": {
          "base_uri": "https://localhost:8080/",
          "height": 523
        },
        "id": "Rf5TncTZrXbL",
        "outputId": "9b4feb01-3be2-44bf-80a7-ae0b509553fa"
      },
      "execution_count": 16,
      "outputs": [
        {
          "output_type": "stream",
          "name": "stdout",
          "text": [
            "98.73029422222221 97.76666666666667 99.8\n"
          ]
        },
        {
          "output_type": "display_data",
          "data": {
            "text/plain": [
              "<Figure size 500x500 with 1 Axes>"
            ],
            "image/png": "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\n"
          },
          "metadata": {}
        }
      ]
    },
    {
      "cell_type": "markdown",
      "source": [],
      "metadata": {
        "id": "mipATI6EuXa4"
      }
    },
    {
      "cell_type": "markdown",
      "source": [
        "3. MONTE CARLO SIMULATIONS IN PYTHONS\n",
        "In the example below, a function is created to roll a dice \"x\" times. The mean value is then calculated. Finally, the results are printed.\n"
      ],
      "metadata": {
        "id": "Z8YJm1SQuYAg"
      }
    },
    {
      "cell_type": "code",
      "source": [
        "### Define a function\n",
        "\"\"\"\n",
        "n     = numberod time the dice is thrown\n",
        "seed  = number to recreate the same random numbers each time\n",
        "\"\"\"\n",
        "\n",
        "def roll_dice(n, seed):\n",
        "   random.seed(seed)\n",
        "   total_dice = 0\n",
        "   point_dice = []\n",
        "   for i in range(n):\n",
        "      total_dice += 1\n",
        "      point_dice.append(random.randint(1, 6))\n",
        "   mean_point_dice = np.mean(point_dice)\n",
        "   return([total_dice, mean_point_dice])\n",
        "\n",
        "seed = 1234\n",
        "print(roll_dice(10,seed))\n",
        "print(roll_dice(100,seed))\n",
        "print(roll_dice(1000,seed))\n",
        "print(roll_dice(10000,seed))"
      ],
      "metadata": {
        "colab": {
          "base_uri": "https://localhost:8080/"
        },
        "id": "zvnc27IiwHaF",
        "outputId": "4c306110-6b1a-4553-afbc-93be24040a75"
      },
      "execution_count": 22,
      "outputs": [
        {
          "output_type": "stream",
          "name": "stdout",
          "text": [
            "[10, 2.7]\n",
            "[100, 3.13]\n",
            "[1000, 3.557]\n",
            "[10000, 3.5106]\n"
          ]
        }
      ]
    }
  ]
}
