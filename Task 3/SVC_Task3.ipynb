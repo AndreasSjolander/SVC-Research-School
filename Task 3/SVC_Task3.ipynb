{
  "nbformat": 4,
  "nbformat_minor": 0,
  "metadata": {
    "colab": {
      "provenance": []
    },
    "kernelspec": {
      "name": "python3",
      "display_name": "Python 3"
    },
    "language_info": {
      "name": "python"
    }
  },
  "cells": [
    {
      "cell_type": "markdown",
      "source": [
        "# Ice Load Data Rätan\n",
        "\n",
        "In this notebook, data from ice panels at Rätan will be analyzed. The data is read from Google Drive. The spreadsheet should be manually filtered first so that the first row contains the name of the columns and the second row contains the unit of the data.\n",
        "\n",
        "1. Import of Modules\n",
        "2. Setup Work Directory\n",
        "3. Import and Cleaning of Data\n",
        "3. Visualization of Dataset\n"
      ],
      "metadata": {
        "id": "zIt5hs5YK2Eh"
      }
    },
    {
      "cell_type": "code",
      "source": [
        "import pandas as pd\n",
        "import numpy as np\n",
        "import matplotlib.pyplot as plt\n",
        "import os\n",
        "import glob\n",
        "import inspect\n",
        "import seaborn as sns\n",
        "import datetime\n",
        "# To visualize dataframes import display\n",
        "from IPython.display import display\n",
        "# Enable plotting inside the notebook\n",
        "%matplotlib inline\n"
      ],
      "metadata": {
        "id": "pInENY03K-10"
      },
      "execution_count": 7,
      "outputs": []
    },
    {
      "cell_type": "markdown",
      "source": [
        "# Setup Work Directory\n",
        "Here, a link to Google Drive and Github is established together with the work directory to the data and to store plots. A list of all data is then created."
      ],
      "metadata": {
        "id": "lXZ-MuXM-VRs"
      }
    },
    {
      "cell_type": "code",
      "source": [
        "#### LINK GOOGLE DRIVE AND GITHUB\n",
        "\n",
        "# Link Github Repository\n",
        "!git clone https://github.com/AndreasSjolander/SVC-Research-School.git\n",
        "\n",
        "# Create a data path\n",
        "pa_data = 'SVC-Research-School/Task 3/Data'\n",
        "pd_fig = 'SVC-Research-School/Task 3/Plot'\n",
        "\n",
        "# Set the work directory\n",
        "os.chdir(pa_da)\n",
        "print (os.listdir())\n",
        "\n"
      ],
      "metadata": {
        "colab": {
          "base_uri": "https://localhost:8080/"
        },
        "id": "7kQcToDLVZId",
        "outputId": "5e5d5963-7517-4064-e250-b54b6412dd15"
      },
      "execution_count": 21,
      "outputs": [
        {
          "output_type": "stream",
          "name": "stdout",
          "text": [
            "Cloning into 'SVC-Research-School'...\n",
            "remote: Enumerating objects: 49, done.\u001b[K\n",
            "remote: Counting objects: 100% (49/49), done.\u001b[K\n",
            "remote: Compressing objects: 100% (47/47), done.\u001b[K\n",
            "remote: Total 49 (delta 11), reused 0 (delta 0), pack-reused 0 (from 0)\u001b[K\n",
            "Receiving objects: 100% (49/49), 16.46 MiB | 14.30 MiB/s, done.\n",
            "Resolving deltas: 100% (11/11), done.\n",
            "['Ice_load_raw_16-17.xlsx', 'Ice_load_raw_18-19.xlsx', 'Ice_load_raw_19-20.xlsx', 'Zero_recordings_ASJ.csv', 'Ice_load_raw_15-16.xlsx', 'Ice_load_raw_17-18.xlsx']\n",
            "A list of all files \n",
            "\n",
            "['Zero_recordings_ASJ.csv']\n"
          ]
        }
      ]
    },
    {
      "cell_type": "code",
      "source": [
        "#### READ IN FILES WITH NEW NAME\n",
        "# Find all files of specified type defined by: filetype\n",
        "filetype = '*.xlsx'\n",
        "Xlist = filetype\n",
        "# Create an empty vector to store filenames in\n",
        "filex = []\n",
        "# Store all filenames defined above\n",
        "for fx in glob.glob(Xlist, recursive=True):\n",
        "    filex.append(fx)\n",
        "print(\"A list of all files \\n\")\n",
        "print(filex)\n",
        "\n",
        "\n",
        "file2 = '*.csv'\n",
        "Xlist_2 = file2\n",
        "# Create an empty vector to store filenames in\n",
        "zero_load = []\n",
        "# Store all filenames defined above\n",
        "for fx in glob.glob(Xlist_2, recursive=True):\n",
        "    zero_load.append(fx)\n",
        "print(\"A list of all files \\n\")\n",
        "print(zero_load)"
      ],
      "metadata": {
        "id": "OQscbi5-N_3j",
        "colab": {
          "base_uri": "https://localhost:8080/"
        },
        "outputId": "02e8f86f-b889-4c9a-e696-5e9f71bd8900"
      },
      "execution_count": 22,
      "outputs": [
        {
          "output_type": "stream",
          "name": "stdout",
          "text": [
            "A list of all files \n",
            "\n",
            "['Ice_load_raw_16-17.xlsx', 'Ice_load_raw_18-19.xlsx', 'Ice_load_raw_19-20.xlsx', 'Ice_load_raw_15-16.xlsx', 'Ice_load_raw_17-18.xlsx']\n",
            "A list of all files \n",
            "\n",
            "['Zero_recordings_ASJ.csv']\n"
          ]
        }
      ]
    },
    {
      "cell_type": "markdown",
      "source": [
        "## 3. Importing and Cleaning of Data\n",
        "\n",
        "Data is avaible in Excel format with a timestamp in the format:\n",
        "\n",
        "1. Read in the data from Excel - OK\n",
        "2. Clean the data\n",
        "2a. Find row with HMB - OK\n",
        "Drop other rows that contain text - OK\n",
        "Set row with HMB to index - OK2\n",
        "Drop columns that don't contain load or time - OK\n",
        "Translate time-signal to time-date\n",
        "Done!"
      ],
      "metadata": {
        "id": "bc2PSiGmLFmP"
      }
    },
    {
      "cell_type": "code",
      "source": [
        "###\n",
        "# READ THE DATA TO PANDAS AND PLOT\n",
        "###\n",
        "\n",
        "\"\"\"\n",
        "First, data is imported into a pandas data frame from Excel files. The data is\n",
        "stacked on top of each other to create on data frame with all the data.\n",
        "Thereafter, zero_readins are read into a data frame. This cotains the pre-tension\n",
        "force on the panel and is used to calculate the load in each load cell.\n",
        "\"\"\"\n",
        "\n",
        "########################################\n",
        "# \tImport data\n",
        "########################################\n",
        "# Date format\n",
        "PARSER = lambda date: datetime.datetime.strptime(date, \"%Y-%m-%d %H:%M:%S\")\n",
        "\n",
        "# Reading data\n",
        "raw_data = pd.DataFrame()\n",
        "for file in filex:\n",
        "    raw_data_loc = pd.read_excel(\n",
        "        file,\n",
        "        index_col=0,\n",
        "        header=0,\n",
        "        date_parser=PARSER,\n",
        "        na_values='NAN',\n",
        "        )\n",
        "\n",
        "    raw_data = pd.concat([raw_data, raw_data_loc], join='outer', sort=True, axis=0,)\n",
        "\n",
        "raw_data.keys()\n",
        "\n",
        "########################################\n",
        "# \tRead Zero Readings for Season\n",
        "########################################\n",
        "PARSER = lambda date: datetime.datetime.strptime(date, \"%Y-%m-%d\")\n",
        "\n",
        "zero_reading = pd.read_csv(\n",
        "    zero_load[0],\n",
        "    sep=\",\",\n",
        "    index_col=0,\n",
        "    header=0,\n",
        "    date_parser=PARSER,\n",
        "    na_values='NAN',\n",
        "    )\n",
        "print('This is the zero readings')\n",
        "print(zero_reading)\n",
        "\n"
      ],
      "metadata": {
        "id": "wymfbdDuLJnp",
        "colab": {
          "base_uri": "https://localhost:8080/"
        },
        "outputId": "023a9823-7799-4535-997d-3e055ebc8026"
      },
      "execution_count": 27,
      "outputs": [
        {
          "output_type": "stream",
          "name": "stderr",
          "text": [
            "<ipython-input-27-38180bf8870e>:20: FutureWarning: The argument 'date_parser' is deprecated and will be removed in a future version. Please use 'date_format' instead, or read your data in as 'object' dtype and then call 'to_datetime'.\n",
            "  raw_data_loc = pd.read_excel(\n",
            "<ipython-input-27-38180bf8870e>:20: FutureWarning: The argument 'date_parser' is deprecated and will be removed in a future version. Please use 'date_format' instead, or read your data in as 'object' dtype and then call 'to_datetime'.\n",
            "  raw_data_loc = pd.read_excel(\n",
            "<ipython-input-27-38180bf8870e>:20: FutureWarning: The argument 'date_parser' is deprecated and will be removed in a future version. Please use 'date_format' instead, or read your data in as 'object' dtype and then call 'to_datetime'.\n",
            "  raw_data_loc = pd.read_excel(\n",
            "<ipython-input-27-38180bf8870e>:20: FutureWarning: The argument 'date_parser' is deprecated and will be removed in a future version. Please use 'date_format' instead, or read your data in as 'object' dtype and then call 'to_datetime'.\n",
            "  raw_data_loc = pd.read_excel(\n",
            "<ipython-input-27-38180bf8870e>:20: FutureWarning: The argument 'date_parser' is deprecated and will be removed in a future version. Please use 'date_format' instead, or read your data in as 'object' dtype and then call 'to_datetime'.\n",
            "  raw_data_loc = pd.read_excel(\n"
          ]
        },
        {
          "output_type": "stream",
          "name": "stdout",
          "text": [
            "            Load_cell_1_zero  Load_cell_2_zero  Load_cell_3_zero  Scale\n",
            "date                                                                   \n",
            "2015-07-01           87.2500           103.900           117.000      1\n",
            "2016-07-28           86.8400           103.530           117.340      1\n",
            "2017-07-01           89.6500           106.000           123.600      1\n",
            "2018-07-01            8.6810            10.432            11.210     10\n",
            "2019-07-01            9.3610            10.493            11.702     10\n",
            "2020-05-06            9.3287            10.449            11.699     10\n",
            "2021-07-01           15.0640            10.223            11.136     10\n",
            "2022-04-28          -95.5550            10.454            11.501     10\n",
            "2023-11-10          -95.5500            10.525            11.267     10\n"
          ]
        },
        {
          "output_type": "stream",
          "name": "stderr",
          "text": [
            "<ipython-input-27-38180bf8870e>:37: FutureWarning: The argument 'date_parser' is deprecated and will be removed in a future version. Please use 'date_format' instead, or read your data in as 'object' dtype and then call 'to_datetime'.\n",
            "  zero_reading = pd.read_csv(\n"
          ]
        }
      ]
    },
    {
      "cell_type": "markdown",
      "source": [
        "# 4. Renaming and Removing\n",
        "Below, the columns are first renamned and the data is calibrated to remove the zero readings from each years."
      ],
      "metadata": {
        "id": "I8_H5UZr-6lo"
      }
    },
    {
      "cell_type": "code",
      "source": [
        "# RENAMING DATA\n",
        "\"\"\"\n",
        "The columns are renamned, the names of the columns is first extrated to a list\n",
        "and then replaced with \"new_name\". Names in original columns must be unified.\n",
        "Names of column is then replaced.\n",
        "\"\"\"\n",
        "raw_name = list(raw_data.columns.values)\n",
        "new_name = ['Load_cell_1', 'Load_cell_2', 'Load_cell_3']\n",
        "\n",
        "# Rename load cells\n",
        "for name1, name2 in zip(raw_name, new_name):\n",
        "    raw_data = raw_data.rename(columns={name1: name2})\n",
        "\n",
        "print('This is the data with renamned columns')\n",
        "print(raw_data.head(10))\n",
        "\n",
        "# REMOVING ZERO LOADS\n",
        "\"\"\"\n",
        "Each load cell is pre-stressed to aorund 100 kN. The exact value in each cell\n",
        "varies from year to year and is registred at the start of each season in\n",
        "\"zero_reading.csv\". Also, the measured values have different scales which is alos\n",
        "included in this file. The two dataframes are first joined, thereafter is the\n",
        "load in each cell calcluated. Finally, the data is resampled to every hour and\n",
        "exported as a .csv file\n",
        "\"\"\"\n",
        "# Join the meassurment data with the zero reading\n",
        "new_data = pd.concat([raw_data, zero_reading], join='outer', sort=True, axis=0,)\n",
        "new_data = new_data.sort_index()\n",
        "\n",
        "# Fill zero reading\n",
        "new_data = new_data.ffill()\n",
        "\n",
        "print('- - - - - - -')\n",
        "print('This is a summary of the data with zero-readings before filtering')\n",
        "print(new_data.info())\n",
        "\n",
        "# Create a empty data frame\n",
        "load_data = pd.DataFrame()\n",
        "\n",
        "# Substract zero reading\n",
        "for (name, columnData) in raw_data.items():\n",
        "    load_data[name] = (new_data[name] - new_data[name + '_zero']) * new_data['Scale']\n",
        "\n",
        "# Remove the zero reading dates from the joint dataframe\n",
        "for date in zero_reading.index:\n",
        "    index_to_drop = load_data[load_data.index == date].iloc()\n",
        "    load_data = load_data.drop(date)\n",
        "\n",
        "# Drop duplicates on index, i.e. drop duplicated data\n",
        "load_data = load_data[~load_data.index.duplicated(keep='first')]\n",
        "\n",
        "print('- - - - - - -')\n",
        "print('This is a summary of the data after drop duplicates')\n",
        "print(load_data.info())\n",
        "\n",
        "\n",
        "print('- - - - - - -')\n",
        "print('This is the data with zero readings removed')\n",
        "print(load_data.head(10))\n",
        "print('- - - - - - -')\n",
        "print('This is summary statistics over the data')\n",
        "print(load_data.describe())\n",
        "\n"
      ],
      "metadata": {
        "id": "QutlX2xg_AOL",
        "colab": {
          "base_uri": "https://localhost:8080/"
        },
        "outputId": "7662b966-8d4f-4b22-f0bd-7a8f0f2bf302"
      },
      "execution_count": 42,
      "outputs": [
        {
          "output_type": "stream",
          "name": "stdout",
          "text": [
            "This is the data with renamned columns\n",
            "                     Load_cell_1  Load_cell_2  Load_cell_3\n",
            "2016-11-08 12:53:17    94.220226   110.484154   126.464588\n",
            "2016-11-08 12:58:16    94.220226   110.571863   126.464588\n",
            "2016-11-08 13:03:16    94.307710   110.630336   126.464588\n",
            "2016-11-08 13:08:16    94.336872   110.659572   126.493734\n",
            "2016-11-08 13:13:16    94.336872   110.688808   126.493734\n",
            "2016-11-08 13:18:16    94.395194   110.747281   126.522880\n",
            "2016-11-08 13:23:16    94.453517   110.864226   126.552026\n",
            "2016-11-08 13:28:16    94.366033   110.922699   126.522880\n",
            "2016-11-08 13:33:16    94.307710   110.951935   126.522880\n",
            "2016-11-08 13:38:16    94.278549   111.010408   126.581172\n",
            "- - - - - - -\n",
            "This is a summary of the data\n",
            "<class 'pandas.core.frame.DataFrame'>\n",
            "DatetimeIndex: 365394 entries, 2015-07-01 00:00:00 to 2023-11-10 00:00:00\n",
            "Data columns (total 7 columns):\n",
            " #   Column            Non-Null Count   Dtype  \n",
            "---  ------            --------------   -----  \n",
            " 0   Load_cell_1       365393 non-null  float64\n",
            " 1   Load_cell_1_zero  365394 non-null  float64\n",
            " 2   Load_cell_2       365393 non-null  float64\n",
            " 3   Load_cell_2_zero  365394 non-null  float64\n",
            " 4   Load_cell_3       365393 non-null  float64\n",
            " 5   Load_cell_3_zero  365394 non-null  float64\n",
            " 6   Scale             365394 non-null  float64\n",
            "dtypes: float64(7)\n",
            "memory usage: 22.3 MB\n",
            "None\n",
            "- - - - - - -\n",
            "This is a summary of the data after drop duplicates\n",
            "<class 'pandas.core.frame.DataFrame'>\n",
            "DatetimeIndex: 365385 entries, 2016-02-26 11:16:55 to 2020-07-03 10:43:02\n",
            "Data columns (total 3 columns):\n",
            " #   Column       Non-Null Count   Dtype  \n",
            "---  ------       --------------   -----  \n",
            " 0   Load_cell_1  365385 non-null  float64\n",
            " 1   Load_cell_2  365385 non-null  float64\n",
            " 2   Load_cell_3  365385 non-null  float64\n",
            "dtypes: float64(3)\n",
            "memory usage: 19.2 MB\n",
            "None\n",
            "- - - - - - -\n",
            "This is the data with zero readings removed\n",
            "                     Load_cell_1  Load_cell_2  Load_cell_3\n",
            "2016-02-26 11:16:55    -4.111075     0.970775    -1.086272\n",
            "2016-02-26 11:21:55    -4.111075     1.292375    -1.086272\n",
            "2016-02-26 11:26:55    -4.140237     1.643211    -1.027980\n",
            "2016-02-26 11:31:55    -3.877785     1.760157    -0.969688\n",
            "2016-02-26 11:36:55    -3.819462     1.877102    -0.940542\n",
            "2016-02-26 11:41:55    -3.761140     2.023284    -0.882250\n",
            "2016-02-26 11:46:55    -1.778170     4.011355    -0.678228\n",
            "2016-02-26 11:51:55    -3.819462     2.169466    -0.765666\n",
            "2016-02-26 11:56:55    -3.906946     2.052520    -0.794812\n",
            "2016-02-26 12:01:55    -4.052753     1.964811    -0.794812\n",
            "- - - - - - -\n",
            "This is tsumary statistics over the data\n",
            "         Load_cell_1    Load_cell_2    Load_cell_3\n",
            "count  365385.000000  365385.000000  365385.000000\n",
            "mean        4.631237       5.271415       3.517720\n",
            "std         6.063865       7.488289       6.218040\n",
            "min        -9.829526      -6.314348      -9.441180\n",
            "25%         0.485657       0.642448       0.212300\n",
            "50%         2.473728       1.984370       1.174118\n",
            "75%         7.063835       7.100336       4.110866\n",
            "max        56.602794      67.220337      63.335581\n"
          ]
        }
      ]
    },
    {
      "cell_type": "markdown",
      "source": [
        "#6 Calculating the Ice Load\n",
        "Now, the ice load is calcluated. This is done based on experimental calibration performed in the laboratory before installation of the load panel."
      ],
      "metadata": {
        "id": "Hy6lCMHxkAFT"
      }
    },
    {
      "cell_type": "code",
      "source": [
        "# CALCULATION OF THE LOAD\n",
        "load_data['Sum']=load_data.sum(axis=1).multiply(1.25)\n",
        "print(load_data.head(10))\n",
        "print('- - - - - - -')\n",
        "print('This is summary statistics over the data')\n",
        "print(load_data.describe())"
      ],
      "metadata": {
        "colab": {
          "base_uri": "https://localhost:8080/"
        },
        "id": "FOvIJ8e0kL_l",
        "outputId": "69c5e1f4-e61f-4b6a-c0ee-f7f2b92dff3c"
      },
      "execution_count": 43,
      "outputs": [
        {
          "output_type": "stream",
          "name": "stdout",
          "text": [
            "                     Load_cell_1  Load_cell_2  Load_cell_3       Sum\n",
            "2016-02-26 11:16:55    -4.111075     0.970775    -1.086272 -5.283215\n",
            "2016-02-26 11:21:55    -4.111075     1.292375    -1.086272 -4.881216\n",
            "2016-02-26 11:26:55    -4.140237     1.643211    -1.027980 -4.406257\n",
            "2016-02-26 11:31:55    -3.877785     1.760157    -0.969688 -3.859145\n",
            "2016-02-26 11:36:55    -3.819462     1.877102    -0.940542 -3.603628\n",
            "2016-02-26 11:41:55    -3.761140     2.023284    -0.882250 -3.275132\n",
            "2016-02-26 11:46:55    -1.778170     4.011355    -0.678228  1.943697\n",
            "2016-02-26 11:51:55    -3.819462     2.169466    -0.765666 -3.019578\n",
            "2016-02-26 11:56:55    -3.906946     2.052520    -0.794812 -3.311548\n",
            "2016-02-26 12:01:55    -4.052753     1.964811    -0.794812 -3.603442\n",
            "- - - - - - -\n",
            "This is summary statistics over the data\n",
            "         Load_cell_1    Load_cell_2    Load_cell_3            Sum\n",
            "count  365385.000000  365385.000000  365385.000000  365385.000000\n",
            "mean        4.631237       5.271415       3.517720      16.775465\n",
            "std         6.063865       7.488289       6.218040      23.261992\n",
            "min        -9.829526      -6.314348      -9.441180     -19.621427\n",
            "25%         0.485657       0.642448       0.212300       1.962022\n",
            "50%         2.473728       1.984370       1.174118       6.860282\n",
            "75%         7.063835       7.100336       4.110866      26.242531\n",
            "max        56.602794      67.220337      63.335581     205.931266\n"
          ]
        }
      ]
    },
    {
      "cell_type": "markdown",
      "source": [
        "# 7 Resampling of the Data"
      ],
      "metadata": {
        "id": "UDLD-vF0li81"
      }
    },
    {
      "cell_type": "code",
      "source": [
        "# Resamples data to hourely data\n",
        "load_data_hour = load_data.resample('H').nearest(limit=1)\n",
        "\n",
        "print('- - - - - - -')\n",
        "print('This is summary statistics over the data BEFORE resampling')\n",
        "print(load_data.describe())\n",
        "\n",
        "print('- - - - - - -')\n",
        "print('This is summary statistics over the data AFTER resampling')\n",
        "print(load_data_hour.describe())"
      ],
      "metadata": {
        "colab": {
          "base_uri": "https://localhost:8080/"
        },
        "id": "7seihs3aloVq",
        "outputId": "4360ed49-6f7d-4307-b95a-9b21a5c4901f"
      },
      "execution_count": 52,
      "outputs": [
        {
          "output_type": "stream",
          "name": "stdout",
          "text": [
            "- - - - - - -\n",
            "This is summary statistics over the data BEFORE resampling\n",
            "         Load_cell_1    Load_cell_2    Load_cell_3            Sum\n",
            "count  365385.000000  365385.000000  365385.000000  365385.000000\n",
            "mean        4.631237       5.271415       3.517720      16.775465\n",
            "std         6.063865       7.488289       6.218040      23.261992\n",
            "min        -9.829526      -6.314348      -9.441180     -19.621427\n",
            "25%         0.485657       0.642448       0.212300       1.962022\n",
            "50%         2.473728       1.984370       1.174118       6.860282\n",
            "75%         7.063835       7.100336       4.110866      26.242531\n",
            "max        56.602794      67.220337      63.335581     205.931266\n",
            "- - - - - - -\n",
            "This is summary statistics over the data AFTER resampling\n",
            "        Load_cell_1   Load_cell_2   Load_cell_3           Sum\n",
            "count  16311.000000  16311.000000  16311.000000  16311.000000\n",
            "mean       3.513905      3.525277      2.958687     12.497335\n",
            "std        5.974848      6.550229      5.547385     20.967269\n",
            "min       -9.392107     -6.197403     -9.441180    -19.292987\n",
            "25%        0.146477      0.170703      0.108715      0.631379\n",
            "50%        1.140542      1.106266      1.307170      4.487741\n",
            "75%        5.980483      5.871790      5.240149     21.755943\n",
            "max       56.107051     65.846229     60.945608    201.955532\n"
          ]
        },
        {
          "output_type": "stream",
          "name": "stderr",
          "text": [
            "<ipython-input-52-82e093fe55ab>:2: FutureWarning: 'H' is deprecated and will be removed in a future version, please use 'h' instead.\n",
            "  load_data_hour = load_data.resample('H').nearest(limit=1)\n"
          ]
        }
      ]
    },
    {
      "cell_type": "markdown",
      "source": [
        "#8. Plotting the data\n",
        "Here, some plots are presented to illustrate the data."
      ],
      "metadata": {
        "id": "uO63smCojkx_"
      }
    },
    {
      "cell_type": "code",
      "source": [
        "# FILTER DATA\n",
        "\"\"\"  The data is filtered below. First, the index is set to datetime_index. To\n",
        "    enable to filter on given dates. To subsets of data are produced:\n",
        "    data_range = plots data from start_date to end_date\n",
        "    data_year = plots data for a specific year\n",
        "    data = original data\n",
        "    data_hour = downsampled data for hours\n",
        "\"\"\"\n",
        "\n",
        "# DATASET 1\n",
        "start_date = '2018-10-30'\n",
        "end_date = '2019-04-30'\n",
        "\n",
        "data = load_data.loc[start_date : end_date]\n",
        "print(load_data.index)\n",
        "print(data.index)\n",
        "\n",
        "\n",
        "data_hour = load_data_hour.loc[start_date : end_date]\n",
        "print(data_hour.index)\n",
        "\n",
        "\n",
        "\n",
        "# Plot the strength of the concrete for different cement and binder content and wc ratios and age\n",
        "plt.figure(1)\n",
        "fig, axes = plt.subplots(2, 2, figsize=(15,10))\n",
        "sns.lineplot(data=data, y='Sum', ax=axes[0,0])\n",
        "axes[0,0].set_title('Load Data')\n",
        "plt.title(('Ice Load ' + start_date + ' to ' + end_date), fontsize=12)\n",
        "# Figure 2\n",
        "sns.lineplot(data=data_hour, y='Sum', ax=axes[0,1])\n",
        "axes[0,1].set_title('Load Data')\n",
        "\n",
        "#sns.lineplot(data=data_hour, x= data_hour.index, y='Sum', ax=axes[0,1])\n",
        "#axes[0,0].set_title('Load Data')\n",
        "\n",
        "#sns.lineplot(data=df_temp, x='Time', y='HMB_2', ax=axes[0,1])\n",
        "#axes[0,1].set_title('Load Cell #2')\n",
        "#sns.lineplot(data=df_temp, x='Time', y='HMB_3', ax=axes[1,0])\n",
        "#axes[1,0].set_title('Load Cell #3')\n",
        "#sns.lineplot(data=df_temp, x='Time', y='Load_Avg', ax=axes[1,1])\n",
        "#axes[1,1].set_title('Load Average')\n",
        "\n",
        "plt.show()"
      ],
      "metadata": {
        "colab": {
          "base_uri": "https://localhost:8080/",
          "height": 1000
        },
        "id": "Lkc0sgX0jnJ7",
        "outputId": "5024df9a-e164-47a2-9882-86222f77e6cb"
      },
      "execution_count": 75,
      "outputs": [
        {
          "output_type": "stream",
          "name": "stdout",
          "text": [
            "DatetimeIndex(['2016-02-26 11:16:55', '2016-02-26 11:21:55',\n",
            "               '2016-02-26 11:26:55', '2016-02-26 11:31:55',\n",
            "               '2016-02-26 11:36:55', '2016-02-26 11:41:55',\n",
            "               '2016-02-26 11:46:55', '2016-02-26 11:51:55',\n",
            "               '2016-02-26 11:56:55', '2016-02-26 12:01:55',\n",
            "               ...\n",
            "               '2020-07-03 09:58:02', '2020-07-03 10:03:01',\n",
            "               '2020-07-03 10:08:01', '2020-07-03 10:13:02',\n",
            "               '2020-07-03 10:18:02', '2020-07-03 10:23:01',\n",
            "               '2020-07-03 10:28:01', '2020-07-03 10:33:01',\n",
            "               '2020-07-03 10:38:02', '2020-07-03 10:43:02'],\n",
            "              dtype='datetime64[ns]', length=365385, freq=None)\n",
            "DatetimeIndex(['2018-10-30 00:00:01', '2018-10-30 00:15:01',\n",
            "               '2018-10-30 00:30:01', '2018-10-30 00:45:01',\n",
            "               '2018-10-30 01:00:01', '2018-10-30 01:15:01',\n",
            "               '2018-10-30 01:30:01', '2018-10-30 01:45:01',\n",
            "               '2018-10-30 02:00:01', '2018-10-30 02:15:01',\n",
            "               ...\n",
            "               '2019-04-30 06:57:34', '2019-04-30 07:12:34',\n",
            "               '2019-04-30 07:27:34', '2019-04-30 07:42:34',\n",
            "               '2019-04-30 07:57:34', '2019-04-30 08:12:34',\n",
            "               '2019-04-30 08:27:34', '2019-04-30 08:42:34',\n",
            "               '2019-04-30 08:57:34', '2019-04-30 09:12:34'],\n",
            "              dtype='datetime64[ns]', length=15309, freq=None)\n",
            "DatetimeIndex(['2018-10-30 00:00:00', '2018-10-30 01:00:00',\n",
            "               '2018-10-30 02:00:00', '2018-10-30 03:00:00',\n",
            "               '2018-10-30 04:00:00', '2018-10-30 05:00:00',\n",
            "               '2018-10-30 06:00:00', '2018-10-30 07:00:00',\n",
            "               '2018-10-30 08:00:00', '2018-10-30 09:00:00',\n",
            "               ...\n",
            "               '2019-04-30 14:00:00', '2019-04-30 15:00:00',\n",
            "               '2019-04-30 16:00:00', '2019-04-30 17:00:00',\n",
            "               '2019-04-30 18:00:00', '2019-04-30 19:00:00',\n",
            "               '2019-04-30 20:00:00', '2019-04-30 21:00:00',\n",
            "               '2019-04-30 22:00:00', '2019-04-30 23:00:00'],\n",
            "              dtype='datetime64[ns]', length=4392, freq='h')\n"
          ]
        },
        {
          "output_type": "error",
          "ename": "KeyError",
          "evalue": "'x'",
          "traceback": [
            "\u001b[0;31m---------------------------------------------------------------------------\u001b[0m",
            "\u001b[0;31mKeyError\u001b[0m                                  Traceback (most recent call last)",
            "\u001b[0;32m/usr/local/lib/python3.10/dist-packages/pandas/core/indexes/base.py\u001b[0m in \u001b[0;36mget_loc\u001b[0;34m(self, key)\u001b[0m\n\u001b[1;32m   3804\u001b[0m         \u001b[0;32mtry\u001b[0m\u001b[0;34m:\u001b[0m\u001b[0;34m\u001b[0m\u001b[0;34m\u001b[0m\u001b[0m\n\u001b[0;32m-> 3805\u001b[0;31m             \u001b[0;32mreturn\u001b[0m \u001b[0mself\u001b[0m\u001b[0;34m.\u001b[0m\u001b[0m_engine\u001b[0m\u001b[0;34m.\u001b[0m\u001b[0mget_loc\u001b[0m\u001b[0;34m(\u001b[0m\u001b[0mcasted_key\u001b[0m\u001b[0;34m)\u001b[0m\u001b[0;34m\u001b[0m\u001b[0;34m\u001b[0m\u001b[0m\n\u001b[0m\u001b[1;32m   3806\u001b[0m         \u001b[0;32mexcept\u001b[0m \u001b[0mKeyError\u001b[0m \u001b[0;32mas\u001b[0m \u001b[0merr\u001b[0m\u001b[0;34m:\u001b[0m\u001b[0;34m\u001b[0m\u001b[0;34m\u001b[0m\u001b[0m\n",
            "\u001b[0;32mindex.pyx\u001b[0m in \u001b[0;36mpandas._libs.index.IndexEngine.get_loc\u001b[0;34m()\u001b[0m\n",
            "\u001b[0;32mindex.pyx\u001b[0m in \u001b[0;36mpandas._libs.index.IndexEngine.get_loc\u001b[0;34m()\u001b[0m\n",
            "\u001b[0;32mpandas/_libs/hashtable_class_helper.pxi\u001b[0m in \u001b[0;36mpandas._libs.hashtable.PyObjectHashTable.get_item\u001b[0;34m()\u001b[0m\n",
            "\u001b[0;32mpandas/_libs/hashtable_class_helper.pxi\u001b[0m in \u001b[0;36mpandas._libs.hashtable.PyObjectHashTable.get_item\u001b[0;34m()\u001b[0m\n",
            "\u001b[0;31mKeyError\u001b[0m: 'x'",
            "\nThe above exception was the direct cause of the following exception:\n",
            "\u001b[0;31mKeyError\u001b[0m                                  Traceback (most recent call last)",
            "\u001b[0;32m<ipython-input-75-f97f979c1e8c>\u001b[0m in \u001b[0;36m<cell line: 27>\u001b[0;34m()\u001b[0m\n\u001b[1;32m     25\u001b[0m \u001b[0mplt\u001b[0m\u001b[0;34m.\u001b[0m\u001b[0mfigure\u001b[0m\u001b[0;34m(\u001b[0m\u001b[0;36m1\u001b[0m\u001b[0;34m)\u001b[0m\u001b[0;34m\u001b[0m\u001b[0;34m\u001b[0m\u001b[0m\n\u001b[1;32m     26\u001b[0m \u001b[0mfig\u001b[0m\u001b[0;34m,\u001b[0m \u001b[0maxes\u001b[0m \u001b[0;34m=\u001b[0m \u001b[0mplt\u001b[0m\u001b[0;34m.\u001b[0m\u001b[0msubplots\u001b[0m\u001b[0;34m(\u001b[0m\u001b[0;36m2\u001b[0m\u001b[0;34m,\u001b[0m \u001b[0;36m2\u001b[0m\u001b[0;34m,\u001b[0m \u001b[0mfigsize\u001b[0m\u001b[0;34m=\u001b[0m\u001b[0;34m(\u001b[0m\u001b[0;36m15\u001b[0m\u001b[0;34m,\u001b[0m\u001b[0;36m10\u001b[0m\u001b[0;34m)\u001b[0m\u001b[0;34m)\u001b[0m\u001b[0;34m\u001b[0m\u001b[0;34m\u001b[0m\u001b[0m\n\u001b[0;32m---> 27\u001b[0;31m \u001b[0msns\u001b[0m\u001b[0;34m.\u001b[0m\u001b[0mlineplot\u001b[0m\u001b[0;34m(\u001b[0m\u001b[0mdata\u001b[0m\u001b[0;34m=\u001b[0m\u001b[0mdata\u001b[0m\u001b[0;34m,\u001b[0m \u001b[0my\u001b[0m\u001b[0;34m=\u001b[0m\u001b[0;34m'Sum'\u001b[0m\u001b[0;34m,\u001b[0m \u001b[0max\u001b[0m\u001b[0;34m=\u001b[0m\u001b[0maxes\u001b[0m\u001b[0;34m[\u001b[0m\u001b[0;36m0\u001b[0m\u001b[0;34m,\u001b[0m\u001b[0;36m0\u001b[0m\u001b[0;34m]\u001b[0m\u001b[0;34m)\u001b[0m\u001b[0;34m\u001b[0m\u001b[0;34m\u001b[0m\u001b[0m\n\u001b[0m\u001b[1;32m     28\u001b[0m \u001b[0maxes\u001b[0m\u001b[0;34m[\u001b[0m\u001b[0;36m0\u001b[0m\u001b[0;34m,\u001b[0m\u001b[0;36m0\u001b[0m\u001b[0;34m]\u001b[0m\u001b[0;34m.\u001b[0m\u001b[0mset_title\u001b[0m\u001b[0;34m(\u001b[0m\u001b[0;34m'Load Data'\u001b[0m\u001b[0;34m)\u001b[0m\u001b[0;34m\u001b[0m\u001b[0;34m\u001b[0m\u001b[0m\n\u001b[1;32m     29\u001b[0m \u001b[0mplt\u001b[0m\u001b[0;34m.\u001b[0m\u001b[0mtitle\u001b[0m\u001b[0;34m(\u001b[0m\u001b[0;34m(\u001b[0m\u001b[0;34m'Ice Load '\u001b[0m \u001b[0;34m+\u001b[0m \u001b[0mstart_date\u001b[0m \u001b[0;34m+\u001b[0m \u001b[0;34m' to '\u001b[0m \u001b[0;34m+\u001b[0m \u001b[0mend_date\u001b[0m\u001b[0;34m)\u001b[0m\u001b[0;34m,\u001b[0m \u001b[0mfontsize\u001b[0m\u001b[0;34m=\u001b[0m\u001b[0;36m12\u001b[0m\u001b[0;34m)\u001b[0m\u001b[0;34m\u001b[0m\u001b[0;34m\u001b[0m\u001b[0m\n",
            "\u001b[0;32m/usr/local/lib/python3.10/dist-packages/seaborn/relational.py\u001b[0m in \u001b[0;36mlineplot\u001b[0;34m(data, x, y, hue, size, style, units, weights, palette, hue_order, hue_norm, sizes, size_order, size_norm, dashes, markers, style_order, estimator, errorbar, n_boot, seed, orient, sort, err_style, err_kws, legend, ci, ax, **kwargs)\u001b[0m\n\u001b[1;32m    508\u001b[0m     \u001b[0mkwargs\u001b[0m\u001b[0;34m[\u001b[0m\u001b[0;34m\"color\"\u001b[0m\u001b[0;34m]\u001b[0m \u001b[0;34m=\u001b[0m \u001b[0m_default_color\u001b[0m\u001b[0;34m(\u001b[0m\u001b[0max\u001b[0m\u001b[0;34m.\u001b[0m\u001b[0mplot\u001b[0m\u001b[0;34m,\u001b[0m \u001b[0mhue\u001b[0m\u001b[0;34m,\u001b[0m \u001b[0mcolor\u001b[0m\u001b[0;34m,\u001b[0m \u001b[0mkwargs\u001b[0m\u001b[0;34m)\u001b[0m\u001b[0;34m\u001b[0m\u001b[0;34m\u001b[0m\u001b[0m\n\u001b[1;32m    509\u001b[0m \u001b[0;34m\u001b[0m\u001b[0m\n\u001b[0;32m--> 510\u001b[0;31m     \u001b[0mp\u001b[0m\u001b[0;34m.\u001b[0m\u001b[0mplot\u001b[0m\u001b[0;34m(\u001b[0m\u001b[0max\u001b[0m\u001b[0;34m,\u001b[0m \u001b[0mkwargs\u001b[0m\u001b[0;34m)\u001b[0m\u001b[0;34m\u001b[0m\u001b[0;34m\u001b[0m\u001b[0m\n\u001b[0m\u001b[1;32m    511\u001b[0m     \u001b[0;32mreturn\u001b[0m \u001b[0max\u001b[0m\u001b[0;34m\u001b[0m\u001b[0;34m\u001b[0m\u001b[0m\n\u001b[1;32m    512\u001b[0m \u001b[0;34m\u001b[0m\u001b[0m\n",
            "\u001b[0;32m/usr/local/lib/python3.10/dist-packages/seaborn/relational.py\u001b[0m in \u001b[0;36mplot\u001b[0;34m(self, ax, kws)\u001b[0m\n\u001b[1;32m    282\u001b[0m             if (\n\u001b[1;32m    283\u001b[0m                 \u001b[0mself\u001b[0m\u001b[0;34m.\u001b[0m\u001b[0mestimator\u001b[0m \u001b[0;32mis\u001b[0m \u001b[0;32mnot\u001b[0m \u001b[0;32mNone\u001b[0m\u001b[0;34m\u001b[0m\u001b[0;34m\u001b[0m\u001b[0m\n\u001b[0;32m--> 284\u001b[0;31m                 \u001b[0;32mand\u001b[0m \u001b[0msub_data\u001b[0m\u001b[0;34m[\u001b[0m\u001b[0morient\u001b[0m\u001b[0;34m]\u001b[0m\u001b[0;34m.\u001b[0m\u001b[0mvalue_counts\u001b[0m\u001b[0;34m(\u001b[0m\u001b[0;34m)\u001b[0m\u001b[0;34m.\u001b[0m\u001b[0mmax\u001b[0m\u001b[0;34m(\u001b[0m\u001b[0;34m)\u001b[0m \u001b[0;34m>\u001b[0m \u001b[0;36m1\u001b[0m\u001b[0;34m\u001b[0m\u001b[0;34m\u001b[0m\u001b[0m\n\u001b[0m\u001b[1;32m    285\u001b[0m             ):\n\u001b[1;32m    286\u001b[0m                 \u001b[0;32mif\u001b[0m \u001b[0;34m\"units\"\u001b[0m \u001b[0;32min\u001b[0m \u001b[0mself\u001b[0m\u001b[0;34m.\u001b[0m\u001b[0mvariables\u001b[0m\u001b[0;34m:\u001b[0m\u001b[0;34m\u001b[0m\u001b[0;34m\u001b[0m\u001b[0m\n",
            "\u001b[0;32m/usr/local/lib/python3.10/dist-packages/pandas/core/frame.py\u001b[0m in \u001b[0;36m__getitem__\u001b[0;34m(self, key)\u001b[0m\n\u001b[1;32m   4100\u001b[0m             \u001b[0;32mif\u001b[0m \u001b[0mself\u001b[0m\u001b[0;34m.\u001b[0m\u001b[0mcolumns\u001b[0m\u001b[0;34m.\u001b[0m\u001b[0mnlevels\u001b[0m \u001b[0;34m>\u001b[0m \u001b[0;36m1\u001b[0m\u001b[0;34m:\u001b[0m\u001b[0;34m\u001b[0m\u001b[0;34m\u001b[0m\u001b[0m\n\u001b[1;32m   4101\u001b[0m                 \u001b[0;32mreturn\u001b[0m \u001b[0mself\u001b[0m\u001b[0;34m.\u001b[0m\u001b[0m_getitem_multilevel\u001b[0m\u001b[0;34m(\u001b[0m\u001b[0mkey\u001b[0m\u001b[0;34m)\u001b[0m\u001b[0;34m\u001b[0m\u001b[0;34m\u001b[0m\u001b[0m\n\u001b[0;32m-> 4102\u001b[0;31m             \u001b[0mindexer\u001b[0m \u001b[0;34m=\u001b[0m \u001b[0mself\u001b[0m\u001b[0;34m.\u001b[0m\u001b[0mcolumns\u001b[0m\u001b[0;34m.\u001b[0m\u001b[0mget_loc\u001b[0m\u001b[0;34m(\u001b[0m\u001b[0mkey\u001b[0m\u001b[0;34m)\u001b[0m\u001b[0;34m\u001b[0m\u001b[0;34m\u001b[0m\u001b[0m\n\u001b[0m\u001b[1;32m   4103\u001b[0m             \u001b[0;32mif\u001b[0m \u001b[0mis_integer\u001b[0m\u001b[0;34m(\u001b[0m\u001b[0mindexer\u001b[0m\u001b[0;34m)\u001b[0m\u001b[0;34m:\u001b[0m\u001b[0;34m\u001b[0m\u001b[0;34m\u001b[0m\u001b[0m\n\u001b[1;32m   4104\u001b[0m                 \u001b[0mindexer\u001b[0m \u001b[0;34m=\u001b[0m \u001b[0;34m[\u001b[0m\u001b[0mindexer\u001b[0m\u001b[0;34m]\u001b[0m\u001b[0;34m\u001b[0m\u001b[0;34m\u001b[0m\u001b[0m\n",
            "\u001b[0;32m/usr/local/lib/python3.10/dist-packages/pandas/core/indexes/base.py\u001b[0m in \u001b[0;36mget_loc\u001b[0;34m(self, key)\u001b[0m\n\u001b[1;32m   3810\u001b[0m             ):\n\u001b[1;32m   3811\u001b[0m                 \u001b[0;32mraise\u001b[0m \u001b[0mInvalidIndexError\u001b[0m\u001b[0;34m(\u001b[0m\u001b[0mkey\u001b[0m\u001b[0;34m)\u001b[0m\u001b[0;34m\u001b[0m\u001b[0;34m\u001b[0m\u001b[0m\n\u001b[0;32m-> 3812\u001b[0;31m             \u001b[0;32mraise\u001b[0m \u001b[0mKeyError\u001b[0m\u001b[0;34m(\u001b[0m\u001b[0mkey\u001b[0m\u001b[0;34m)\u001b[0m \u001b[0;32mfrom\u001b[0m \u001b[0merr\u001b[0m\u001b[0;34m\u001b[0m\u001b[0;34m\u001b[0m\u001b[0m\n\u001b[0m\u001b[1;32m   3813\u001b[0m         \u001b[0;32mexcept\u001b[0m \u001b[0mTypeError\u001b[0m\u001b[0;34m:\u001b[0m\u001b[0;34m\u001b[0m\u001b[0;34m\u001b[0m\u001b[0m\n\u001b[1;32m   3814\u001b[0m             \u001b[0;31m# If we have a listlike key, _check_indexing_error will raise\u001b[0m\u001b[0;34m\u001b[0m\u001b[0;34m\u001b[0m\u001b[0m\n",
            "\u001b[0;31mKeyError\u001b[0m: 'x'"
          ]
        },
        {
          "output_type": "display_data",
          "data": {
            "text/plain": [
              "<Figure size 640x480 with 0 Axes>"
            ]
          },
          "metadata": {}
        },
        {
          "output_type": "display_data",
          "data": {
            "text/plain": [
              "<Figure size 1500x1000 with 4 Axes>"
            ],
            "image/png": "[encoded data removed]"
          },
          "metadata": {}
        }
      ]
    }
  ]
}